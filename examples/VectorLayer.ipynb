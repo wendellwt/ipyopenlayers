{
 "cells": [
  {
   "cell_type": "markdown",
   "id": "81807477-4f95-4e56-9c00-40894b6f03ea",
   "metadata": {},
   "source": [
    "# Vector Layer"
   ]
  },
  {
   "cell_type": "code",
   "execution_count": 1,
   "id": "b18cdb9c-e8d6-450e-b86d-0767936ee2cf",
   "metadata": {},
   "outputs": [
    {
     "data": {
      "application/vnd.jupyter.widget-view+json": {
       "model_id": "23ee42c538dc4ed6bed767395fbb51b0",
       "version_major": 2,
       "version_minor": 0
      },
      "text/plain": [
       "Map(center=[-77.15, 34.56], zoom=9.5)"
      ]
     },
     "execution_count": 1,
     "metadata": {},
     "output_type": "execute_result"
    }
   ],
   "source": [
    "from ipyopenlayers import Map, Vector ,RasterTileLayer\n",
    "import os\n",
    "import json\n",
    "\n",
    "m = Map(center=[-77.15, 34.56], zoom=9.5)\n",
    "layer= RasterTileLayer()\n",
    "m.add_layer(layer)\n",
    "m"
   ]
  },
  {
   "cell_type": "code",
   "execution_count": 2,
   "id": "2cf558fc",
   "metadata": {},
   "outputs": [
    {
     "data": {
      "application/vnd.jupyter.widget-view+json": {
       "model_id": "23ee42c538dc4ed6bed767395fbb51b0",
       "version_major": 2,
       "version_minor": 0
      },
      "text/plain": [
       "Map(center=[-77.15, 34.56], zoom=9.5)"
      ]
     },
     "execution_count": 2,
     "metadata": {},
     "output_type": "execute_result"
    }
   ],
   "source": [
    "vidget = Vector(\n",
    "    data = { 'geom':[-77.04, 34.66 ] },\n",
    "    visible=True,\n",
    "    style = { 'pointFillColor': 'rgba(255,0,255,1)',\n",
    "              'image' : { 'height' : 40,\n",
    "                          'width'  : 30,\n",
    "                          'src'    : 'https://openlayers.org/en/latest/examples/data/icon.png'\n",
    "                        }  }\n",
    ")\n",
    "m.add_layer(vidget)\n",
    "\n",
    "# Display the map\n",
    "m"
   ]
  },
  {
   "cell_type": "code",
   "execution_count": null,
   "id": "8d76847b",
   "metadata": {},
   "outputs": [],
   "source": []
  }
 ],
 "metadata": {
  "kernelspec": {
   "display_name": "Python 3 (ipykernel)",
   "language": "python",
   "name": "python3"
  },
  "language_info": {
   "codemirror_mode": {
    "name": "ipython",
    "version": 3
   },
   "file_extension": ".py",
   "mimetype": "text/x-python",
   "name": "python",
   "nbconvert_exporter": "python",
   "pygments_lexer": "ipython3",
   "version": "3.10.12"
  }
 },
 "nbformat": 4,
 "nbformat_minor": 5
}
